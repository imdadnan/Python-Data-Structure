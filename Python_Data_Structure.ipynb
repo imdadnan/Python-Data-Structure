{
  "nbformat": 4,
  "nbformat_minor": 0,
  "metadata": {
    "colab": {
      "provenance": []
    },
    "kernelspec": {
      "name": "python3",
      "display_name": "Python 3"
    },
    "language_info": {
      "name": "python"
    }
  },
  "cells": [
    {
      "cell_type": "markdown",
      "source": [
        "# Python Data Structure"
      ],
      "metadata": {
        "id": "qabFIPJLj6vg"
      }
    },
    {
      "cell_type": "markdown",
      "source": [
        "1. What are data structures, and why are they important?\n",
        "   - Data Structure the way of organizing and storing the data so that it can be accessed manupulated efficiently.\n",
        "\n",
        "   Why are they important?\n",
        "  - Beacause data structure is efficient data headling beacause the data is huge volume thats why data structure is helping the data faster run and show correct information.The choice of data structure directly influences the performance of algorithms. Proper pairing can substantially improve an application's speed and memory usage, while a poorly chosen structure may result in slow, inefficient program.\n",
        "\n",
        "\n",
        "2. Explain the difference between mutable and immutable data types with examples.\n",
        "   - Mutable data types are objects whose values can be changed after they are created.\n",
        "     modifying their contents does not create a new object; instead, the original object is updated.\n",
        "\n",
        "   - Immutable data types are objects whose values cannot be changed after they are created.\n",
        "     any operation that tries to modify the value will result in the creation of a new object.\n",
        "\n",
        "\n",
        "3. What are the main differences between lists and tuples in Python?\n",
        "  - Lists are mutable, they can be changed after creation (you can  add, remove, or modify items). Tuples are immutable, once created, their contents cannot be changed. This is a main differance between lists and tuples.\n",
        "\n",
        "\n",
        "4. Describe how dictionaries store data.\n",
        "  - Dictionaries store data as key-value pairs. Each element in a dictionary consists of a unique, immutable key (such as a string or a number) and a value, which can be any data type, including lists, other dictionaries, or user-defined objects.\n",
        "\n",
        "\n",
        "5. Why might you use a set instead of a list in Python?\n",
        "  - Sets automatically eliminate duplicate elements, ensuring all items are unique without extra code. This is useful when you want a collection of distinct values, whereas lists allow duplicates. Sets support mathmatical operation and sets are unordered collection.\n",
        "\n",
        "\n",
        "6. What is a string in Python, and how is it different from a list?\n",
        "  - In python string as sequence which menas python tracks every element in string as a sequence, string is immutable its menas once the created than you can not be changed.\n",
        "\n",
        "  - Lists are mutable and strings are immutable and the string is Sequence of characters only and list are squence of items of any data type. string is number characters and list are number of element.\n",
        "\n",
        "  - Both strings and lists support indexing, slicing, iteration, and the use of membership operators like in and not in. However, because strings are immutable, any operation that modifies a string actually creates a new string, while lists can be modified in place.\n",
        "\n",
        "\n",
        "7. How do tuples ensure data integrity in Python?\n",
        "   - Tuples ensure data integrity in Python primarily through their immutability—once a tuple is created, its contents cannot be changed (no modification, addition, or deletion of elements). This immutability guarantees that the data remains consistent and unaltered throughout the program, which helps reduce bugs caused by unintended data modifications and maintains reliability.\n",
        "\n",
        "\n",
        "8. What is a hash table, and how does it relate to dictionaries in Python?\n",
        "  - In Python, the built-in dictionary (dict) data type is implemented using a hash table under the hood. A Python dictionary stores key-value pairs where the keys are hashable (meaning a stable and unique hash value can be generated for them) and values can be any object. When you access or insert an element in a dictionary by a key, Python applies the hash function to the key, uses the resulting hash to find the corresponding location in the underlying array, and retrieves or updates the value efficiently.\n",
        "\n",
        "\n",
        "9. Can lists contain different data types in Python?\n",
        "  - Yes, in Python, lists can contain elements of different data types. You can mix strings, integers, booleans, floats, and even other objects within the same list. For example, a list can be [\"abc\", 34, True, 40, \"male\"] containing strings, numbers, and a boolean all together.\n",
        "\n",
        "\n",
        "10. Explain why strings are immutable in Python.\n",
        "   - Strings are immutable in Python because once a string object is created, it cannot be changed.\n",
        "   Python strings are immutable by design to enhance safety, efficiency, and reliability in programming, enabling strings to be used safely as keys, shared without unintended side effects, and handled consistently across the language.\n",
        "  \n",
        "\n",
        "11. What advantages do dictionaries offer over lists for certain tasks?\n",
        "   - Dictionaries generally consume more memory than lists because they store both keys and values, whereas lists only store values. Also, lists are faster for index-based access and iteration when a simple ordered sequence is important.\n",
        "   - Dictionaries excel in scenarios requiring fast, key-based lookup and meaningful data association, such as mapping unique identifiers to values and lists are preferable for ordered data access and sequences.\n",
        "\n",
        "\n",
        "12. Describe a scenario where using a tuple would be preferable over a list?\n",
        "   - Tuples are immutable, meaning their contents cannot be altered once defined, which ensures data integrity and makes the program safer by preventing accidental changes. Additionally, tuples are more memory-efficient and slightly faster than lists because their fixed size allows Python to optimize their storage and access speed.\n",
        "   Lists are better when you need a mutable, dynamic collection for data that changes frequently, including adding, removing, or sorting elements.\n",
        "\n",
        "\n",
        "13. How do sets handle duplicate values in Python?\n",
        "    - In Python, sets do not allow duplicate values. When you add elements to a set, any duplicate entries are automatically ignored, meaning each element appears only once in the set regardless of how many times it was added. This uniqueness property is fundamental to sets.\n",
        "\n",
        "\n",
        "14. How does the “in” keyword work differently for lists and dictionaries?\n",
        "  - The Python in keyword works differently for lists and dictionaries primarily in what they check for membership.\n",
        "  - For lists, the in keyword checks whether a given value is present anywhere in the list by scanning elements sequentially. This means it tests each element one by one for equality with the target value.\n",
        "  - For dictionaries, the in keyword checks whether the given value is present as a key in the dictionary, not among the values.\n",
        "\n",
        "\n",
        "15. Can you modify the elements of a tuple? Explain why or why not?\n",
        "   - You cannot directly modify the elements of a tuple because tuples in Python are immutable. This means once a tuple is created, its elements cannot be changed, added, or removed.\n",
        "   - Tuples containing mutable elements: While the tuple itself is immutable, if it contains mutable objects (like lists, dictionaries, or sets), the contents of those mutable objects can be changed.\n",
        "\n",
        "\n",
        "16. What is a nested dictionary, and give an example of its use case?\n",
        "   - A nested dictionary in Python is a dictionary whose values are also dictionaries. This structure allows you to organize complex hierarchical or grouped data by having dictionaries within dictionaries.\n",
        "   - Example use case:\n",
        "  Storing student information where each student has attributes like name, age, and grade:\n",
        "\n",
        "   Python\n",
        "  students = {\n",
        "    'student1': {'name': 'Adnan', 'age': 20, 'grade': 'A'},\n",
        "    'student2': {'name': 'Faizan', 'age': 22, 'grade': 'B'},\n",
        "    'student3': {'name': 'Sahil', 'age': 19, 'grade': 'A'}\n",
        "}\n",
        "\n",
        "\n",
        "17. Describe the time complexity of accessing elements in a dictionary.\n",
        "   - The time complexity of accessing elements in a dictionary is O(1) on average. This constant-time access is achieved because dictionaries are implemented using hash tables, where the key is hashed to directly locate the corresponding value in memory. This allows retrieval operations by key to be very fast and independent of the dictionary size in typical cases.\n",
        "\n",
        "\n",
        "18. In what situations are lists preferred over dictionaries?\n",
        "   - Thus, choose lists when your use case involves: ordered sequences, frequent index access, allowance for duplicates, memory constraints, or when working with data naturally represented as sequences or matrices. This fits very well with scenarios like iterating over ordered items, processing sequential tasks, or performing numerical computations.\n",
        "   - Given your interest in hash tables and dictionaries, understanding these trade-offs will help you use lists and dictionaries optimally depending on whether order, indexing, or key-value associations are most important in your program.\n",
        "\n",
        "\n",
        "19. Why are dictionaries considered unordered, and how does that affect data retrieval?\n",
        "   - Dictionaries are historically considered unordered because they store data as key-value pairs optimized for fast key-based access, rather than maintaining any inherent order of elements by insertion or position. The internal structure of a dictionary is a hash table that maps keys to values in a way that does not guarantee order. This means you cannot rely on the sequence of items when iterating or printing dictionaries—at least in versions of Python before 3.7\n",
        "\n",
        "\n",
        "20.  Explain the difference between a list and a dictionary in terms of data retrieval.\n",
        "   - The key difference between a list and a dictionary in terms of data retrieval lies in how you access their elements.\n",
        "   - A list is an ordered collection where elements are retrieved by their integer index positions. Accessing an element by index is typically very fast (O(1) time complexity); however, if you need to find an element by value, it requires searching through the list (O(n) time complexity)\n",
        "   - A dictionary is an unordered collection of key-value pairs where elements are accessed directly using unique keys rather than numeric indexes. Lookups by key are also very fast (average O(1) time complexity) due to hash-based retrieval, making dictionaries more efficient for retrieving data by identifiers rather than position.\n",
        "\n"
      ],
      "metadata": {
        "id": "e3n5LfIhkC6w"
      }
    },
    {
      "cell_type": "markdown",
      "source": [
        "# Practical Questions\n"
      ],
      "metadata": {
        "id": "EdBirQPxiM5T"
      }
    },
    {
      "cell_type": "code",
      "source": [
        "#1. Write a code to create a string with your name and print it.\n",
        "name = \"Md Adnan\"\n",
        "print(name)"
      ],
      "metadata": {
        "colab": {
          "base_uri": "https://localhost:8080/"
        },
        "id": "7jfo1ce-ikq4",
        "outputId": "5e9b7f39-a783-4845-9ba1-0728957a8fc1"
      },
      "execution_count": 4,
      "outputs": [
        {
          "output_type": "stream",
          "name": "stdout",
          "text": [
            "Md Adnan\n"
          ]
        }
      ]
    },
    {
      "cell_type": "code",
      "source": [
        "#2. Write a code to find the length of the string \"Hello World\".\n",
        "string = \"Hello World\"\n",
        "print(len(string))"
      ],
      "metadata": {
        "colab": {
          "base_uri": "https://localhost:8080/"
        },
        "id": "TrOhK9NPjHvC",
        "outputId": "1c9ac9a3-08ab-41d6-b734-db38ce3ab0d3"
      },
      "execution_count": 5,
      "outputs": [
        {
          "output_type": "stream",
          "name": "stdout",
          "text": [
            "11\n"
          ]
        }
      ]
    },
    {
      "cell_type": "code",
      "source": [
        "#3. Write a code to slice the first 3 characters from the string \"Python Programming\"?\n",
        "string = \"Python Programming\"\n",
        "print(string[:3])"
      ],
      "metadata": {
        "colab": {
          "base_uri": "https://localhost:8080/"
        },
        "id": "AoyxmeG9j0IF",
        "outputId": "c96fda7d-acff-42f5-c061-e597cf7a6248"
      },
      "execution_count": 7,
      "outputs": [
        {
          "output_type": "stream",
          "name": "stdout",
          "text": [
            "Pyt\n"
          ]
        }
      ]
    },
    {
      "cell_type": "code",
      "source": [
        "#4. Write a code to convert the string \"hello\" to uppercase.\n",
        "string = \"hello\"\n",
        "print(string.upper())"
      ],
      "metadata": {
        "colab": {
          "base_uri": "https://localhost:8080/"
        },
        "id": "ExGFDmTtkPzJ",
        "outputId": "b3804a6d-ac74-474a-a380-8a62d36a49f6"
      },
      "execution_count": 10,
      "outputs": [
        {
          "output_type": "stream",
          "name": "stdout",
          "text": [
            "HELLO\n"
          ]
        }
      ]
    },
    {
      "cell_type": "code",
      "source": [
        "#5. Write a code to replace the word \"apple\" with \"orange\" in the string \"I like apple\".\n",
        "string = \"I like apple\"\n",
        "print(string.replace(\"I like apple\", \"I like orange\"))"
      ],
      "metadata": {
        "colab": {
          "base_uri": "https://localhost:8080/"
        },
        "id": "Jcvqin9ElOr7",
        "outputId": "db308335-d34f-47f8-9752-f11f06468d2e"
      },
      "execution_count": 11,
      "outputs": [
        {
          "output_type": "stream",
          "name": "stdout",
          "text": [
            "I like orange\n"
          ]
        }
      ]
    },
    {
      "cell_type": "code",
      "source": [
        "#6. Write a code to create a list with numbers 1 to 5 and print it.\n",
        "list = [1, 2, 3, 4, 5]\n",
        "print(list)"
      ],
      "metadata": {
        "colab": {
          "base_uri": "https://localhost:8080/"
        },
        "id": "8tdKZnyWmCie",
        "outputId": "8b0b9f46-df93-4ba6-d9e2-7fb18cb79a48"
      },
      "execution_count": 12,
      "outputs": [
        {
          "output_type": "stream",
          "name": "stdout",
          "text": [
            "[1, 2, 3, 4, 5]\n"
          ]
        }
      ]
    },
    {
      "cell_type": "code",
      "source": [
        "#7. Write a code to append the number 10 to the list [1, 2, 3, 4].\n",
        "list = [1, 2, 3, 4]\n",
        "list.append(10)\n",
        "print(list)"
      ],
      "metadata": {
        "colab": {
          "base_uri": "https://localhost:8080/"
        },
        "id": "sTsBH6sIm6V8",
        "outputId": "81739f9a-33c8-4352-8f17-0471b2186a34"
      },
      "execution_count": 13,
      "outputs": [
        {
          "output_type": "stream",
          "name": "stdout",
          "text": [
            "[1, 2, 3, 4, 10]\n"
          ]
        }
      ]
    },
    {
      "cell_type": "code",
      "source": [
        "#8. Write a code to remove the number 3 from the list [1, 2, 3, 4, 5].\n",
        "list = [1, 2, 3, 4]\n",
        "list.remove(3)\n",
        "print(list)"
      ],
      "metadata": {
        "colab": {
          "base_uri": "https://localhost:8080/"
        },
        "id": "v19YP-GLnQwO",
        "outputId": "bfb35042-0c54-42e1-dfc1-47f001266041"
      },
      "execution_count": 14,
      "outputs": [
        {
          "output_type": "stream",
          "name": "stdout",
          "text": [
            "[1, 2, 4]\n"
          ]
        }
      ]
    },
    {
      "cell_type": "code",
      "source": [
        "#9. Write a code to access the second element in the list ['a', 'b', 'c', 'd'].\n",
        "list = ['a', 'b', 'c', 'd']\n",
        "print(list[1])"
      ],
      "metadata": {
        "colab": {
          "base_uri": "https://localhost:8080/"
        },
        "id": "lOfaFwXbnjLQ",
        "outputId": "1bf67cc5-aa32-4d61-b7dd-090dc5e854d0"
      },
      "execution_count": 15,
      "outputs": [
        {
          "output_type": "stream",
          "name": "stdout",
          "text": [
            "b\n"
          ]
        }
      ]
    },
    {
      "cell_type": "code",
      "source": [
        "#10. Write a code to reverse the list [10, 20, 30, 40, 50].\n",
        "list = [10, 20, 30, 40, 50]\n",
        "print(list[::-1])"
      ],
      "metadata": {
        "colab": {
          "base_uri": "https://localhost:8080/"
        },
        "id": "xOAKjDYkoDH4",
        "outputId": "f9929177-7170-4719-ed94-02e73e2a2950"
      },
      "execution_count": 16,
      "outputs": [
        {
          "output_type": "stream",
          "name": "stdout",
          "text": [
            "[50, 40, 30, 20, 10]\n"
          ]
        }
      ]
    },
    {
      "cell_type": "code",
      "source": [
        "#11.  Write a code to create a tuple with the elements 100, 200, 300 and print it.\n",
        "tuple = (100, 200, 300)\n",
        "print(tuple)"
      ],
      "metadata": {
        "colab": {
          "base_uri": "https://localhost:8080/"
        },
        "id": "zUvFRqisodTL",
        "outputId": "79fdb6e8-2dab-4e6d-ae17-5fd5519e798a"
      },
      "execution_count": 20,
      "outputs": [
        {
          "output_type": "stream",
          "name": "stdout",
          "text": [
            "(100, 200, 300)\n"
          ]
        }
      ]
    },
    {
      "cell_type": "code",
      "source": [
        "#12. Write a code to access the second-to-last element of the tuple ('red', 'green', 'blue', 'yellow').\n",
        "tuple = (\"red\", \"green\", \"blue\", \"yellow\")\n",
        "print(tuple[-1])"
      ],
      "metadata": {
        "colab": {
          "base_uri": "https://localhost:8080/"
        },
        "id": "Kc7xcBK4o6Qp",
        "outputId": "25460a9e-7cd3-43f5-8f0c-4a47bbc898dd"
      },
      "execution_count": 21,
      "outputs": [
        {
          "output_type": "stream",
          "name": "stdout",
          "text": [
            "yellow\n"
          ]
        }
      ]
    },
    {
      "cell_type": "code",
      "source": [
        "#13. Write a code to find the minimum number in the tuple (10, 20, 5, 15).\n",
        "tuple = (10, 20, 5, 15)\n",
        "print(min(tuple))"
      ],
      "metadata": {
        "colab": {
          "base_uri": "https://localhost:8080/"
        },
        "id": "2GkdMSNdpueR",
        "outputId": "4be45ef3-6ee0-493d-d7f7-45b387725f6c"
      },
      "execution_count": 22,
      "outputs": [
        {
          "output_type": "stream",
          "name": "stdout",
          "text": [
            "5\n"
          ]
        }
      ]
    },
    {
      "cell_type": "code",
      "source": [
        "#14. Write a code to find the index of the element \"cat\" in the tuple ('dog', 'cat', 'rabbit').\n",
        "tuple = (\"dog\", \"cat\", \"rabbit\")\n",
        "print(tuple.index(\"cat\"))"
      ],
      "metadata": {
        "colab": {
          "base_uri": "https://localhost:8080/"
        },
        "id": "3XjAqdBGvFtv",
        "outputId": "04a8dafa-a4d5-42b5-ca21-7c17b31693e8"
      },
      "execution_count": 23,
      "outputs": [
        {
          "output_type": "stream",
          "name": "stdout",
          "text": [
            "1\n"
          ]
        }
      ]
    },
    {
      "cell_type": "code",
      "source": [
        "#15. Write a code to create a tuple containing three different fruits and check if \"kiwi\" is in it.\n",
        "tuple = (\"apple\", \"banana\", \"orange\")\n",
        "print(\"kiwi\" in tuple)"
      ],
      "metadata": {
        "colab": {
          "base_uri": "https://localhost:8080/"
        },
        "id": "ls-kL-qbv_x2",
        "outputId": "195df028-4cc7-43b6-b24e-a9a26cf6ca46"
      },
      "execution_count": 24,
      "outputs": [
        {
          "output_type": "stream",
          "name": "stdout",
          "text": [
            "False\n"
          ]
        }
      ]
    },
    {
      "cell_type": "code",
      "source": [
        "#16. Write a code to create a set with the elements 'a', 'b', 'c' and print it.\n",
        "set = {'a', 'b', 'c'}\n",
        "print(set)"
      ],
      "metadata": {
        "colab": {
          "base_uri": "https://localhost:8080/"
        },
        "id": "LLNk86f9wfSo",
        "outputId": "af200cb1-88da-477d-f6ba-10fcec6f6e47"
      },
      "execution_count": 28,
      "outputs": [
        {
          "output_type": "stream",
          "name": "stdout",
          "text": [
            "{'b', 'a', 'c'}\n"
          ]
        }
      ]
    },
    {
      "cell_type": "code",
      "source": [
        "#17. Write a code to clear all elements from the set {1, 2, 3, 4, 5}.\n",
        "set = {1, 2, 3, 4, 5}\n",
        "set.clear()\n",
        "print(set)"
      ],
      "metadata": {
        "colab": {
          "base_uri": "https://localhost:8080/"
        },
        "id": "A6F6H3ZWwza_",
        "outputId": "cb8f631d-4bcd-45a9-8796-9e74dfad4938"
      },
      "execution_count": 29,
      "outputs": [
        {
          "output_type": "stream",
          "name": "stdout",
          "text": [
            "set()\n"
          ]
        }
      ]
    },
    {
      "cell_type": "code",
      "source": [
        "#18. Write a code to remove the element 4 from the set {1, 2, 3, 4}.\n",
        "set = {1, 2, 3, 4}\n",
        "set.remove(4)\n",
        "print(set)"
      ],
      "metadata": {
        "colab": {
          "base_uri": "https://localhost:8080/"
        },
        "id": "6R0l2uCnyKbT",
        "outputId": "4e9707d6-1776-4919-8787-2b82c68e6884"
      },
      "execution_count": 30,
      "outputs": [
        {
          "output_type": "stream",
          "name": "stdout",
          "text": [
            "{1, 2, 3}\n"
          ]
        }
      ]
    },
    {
      "cell_type": "code",
      "source": [
        "#19. Write a code to find the union of two sets {1, 2, 3} and {3, 4, 5}.\n",
        "set1 = {1, 2, 3}\n",
        "set2 = {3, 4, 5}\n",
        "print(set1.union(set2))"
      ],
      "metadata": {
        "colab": {
          "base_uri": "https://localhost:8080/"
        },
        "id": "t4aYOdCryfBa",
        "outputId": "a500ea83-fb03-4bb6-9ef2-31a4ab695a4e"
      },
      "execution_count": 31,
      "outputs": [
        {
          "output_type": "stream",
          "name": "stdout",
          "text": [
            "{1, 2, 3, 4, 5}\n"
          ]
        }
      ]
    },
    {
      "cell_type": "code",
      "source": [
        "#20. Write a code to find the intersection of two sets {1, 2, 3} and {2, 3, 4}.\n",
        "set1 = {1, 2, 3}\n",
        "set2 = {2, 3, 4}\n",
        "print(set1.intersection(set2))"
      ],
      "metadata": {
        "colab": {
          "base_uri": "https://localhost:8080/"
        },
        "id": "Evm-ZtSZzwip",
        "outputId": "5ae64062-f642-4965-b1d0-c17f24cb2e8d"
      },
      "execution_count": 32,
      "outputs": [
        {
          "output_type": "stream",
          "name": "stdout",
          "text": [
            "{2, 3}\n"
          ]
        }
      ]
    },
    {
      "cell_type": "code",
      "source": [
        "#21. Write a code to create a dictionary with the keys \"name\", \"age\", and \"city\", and print it.\n",
        "dict = {\"name\": \"Md Adnan\",\"age\": \"22\", \"city\": \"Kolkata\"}\n",
        "print(dict)"
      ],
      "metadata": {
        "colab": {
          "base_uri": "https://localhost:8080/"
        },
        "id": "qLNhT5th0dP5",
        "outputId": "2bfd0e23-434a-4532-ff90-b38729fc6060"
      },
      "execution_count": 33,
      "outputs": [
        {
          "output_type": "stream",
          "name": "stdout",
          "text": [
            "{'name': 'Md Adnan', 'age': '22', 'city': 'Kolkata'}\n"
          ]
        }
      ]
    },
    {
      "cell_type": "code",
      "source": [
        "#22. Write a code to add a new key-value pair \"country\": \"USA\" to the dictionary {'name': 'John', 'age': 25}.\n",
        "dict = {\"name\": \"Md Adnan\", \"age\": \"22\"}\n",
        "dict[\"country\"] = \"India\"\n",
        "print(dict)"
      ],
      "metadata": {
        "colab": {
          "base_uri": "https://localhost:8080/"
        },
        "id": "H7NKNK_416tZ",
        "outputId": "f5f0d061-ad4d-4d52-ba5e-1e51bd3bf5cc"
      },
      "execution_count": 36,
      "outputs": [
        {
          "output_type": "stream",
          "name": "stdout",
          "text": [
            "{'name': 'Md Adnan', 'age': '22', 'country': 'India'}\n"
          ]
        }
      ]
    },
    {
      "cell_type": "code",
      "source": [
        "#23. Write a code to access the value associated with the key \"name\" in the dictionary {'name': 'Alice', 'age': 30}.\n",
        "dict = {\"name\": \"Md Adnan\", \"age\": \"22\"}\n",
        "print(dict[\"name\"])"
      ],
      "metadata": {
        "colab": {
          "base_uri": "https://localhost:8080/"
        },
        "id": "nTBsNWCm2xg1",
        "outputId": "5264acfc-07c1-469a-b24d-7a65491bc6cd"
      },
      "execution_count": 38,
      "outputs": [
        {
          "output_type": "stream",
          "name": "stdout",
          "text": [
            "Md Adnan\n"
          ]
        }
      ]
    },
    {
      "cell_type": "code",
      "source": [
        "#24. Write a code to remove the key \"age\" from the dictionary {'name': 'Bob', 'age': 22, 'city': 'New York'}.\n",
        "dict = {\"name\": \"Md Adnan\", \"age\": \"22\" ,\"city\": \"Kolkata\"}\n",
        "dict.pop(\"age\")\n",
        "print(dict)"
      ],
      "metadata": {
        "colab": {
          "base_uri": "https://localhost:8080/"
        },
        "id": "6jVd5uKP34te",
        "outputId": "654fc166-2429-4b3e-e770-afd38763809d"
      },
      "execution_count": 41,
      "outputs": [
        {
          "output_type": "stream",
          "name": "stdout",
          "text": [
            "{'name': 'Md Adnan', 'city': 'Kolkata'}\n"
          ]
        }
      ]
    },
    {
      "cell_type": "code",
      "source": [
        "#25. Write a code to check if the key \"city\" exists in the dictionary {'name': 'Alice', 'city': 'Paris'}.\n",
        "dict = {\"name\": \"Md Adnan\", \"city\": \"Kolkata\"}\n",
        "print(\"city\" in dict)"
      ],
      "metadata": {
        "colab": {
          "base_uri": "https://localhost:8080/"
        },
        "id": "lO7w_7qh5VIX",
        "outputId": "f3720781-dd60-4c7f-e322-127ad9d6adfb"
      },
      "execution_count": 42,
      "outputs": [
        {
          "output_type": "stream",
          "name": "stdout",
          "text": [
            "True\n"
          ]
        }
      ]
    },
    {
      "cell_type": "code",
      "source": [
        "#26. Write a code to create a list, a tuple, and a dictionary, and print them all.\n",
        "list = [1, 2, 3, 4]\n",
        "tuple = (1, 2, 3, 4)\n",
        "dict = {\"name\": \"Md Adnan\", \"age\": \"22\"}\n",
        "print(list)\n",
        "print(tuple)\n",
        "print(dict)"
      ],
      "metadata": {
        "colab": {
          "base_uri": "https://localhost:8080/"
        },
        "id": "KVa8rBi76RbB",
        "outputId": "3a40248e-56e8-4dfa-cf99-40533e0173aa"
      },
      "execution_count": 43,
      "outputs": [
        {
          "output_type": "stream",
          "name": "stdout",
          "text": [
            "[1, 2, 3, 4]\n",
            "(1, 2, 3, 4)\n",
            "{'name': 'Md Adnan', 'age': '22'}\n"
          ]
        }
      ]
    },
    {
      "cell_type": "code",
      "source": [
        "#27. Write a code to create a list of 5 random numbers between 1 and 100, sort it in ascending order, and print the result.(replaced)\n",
        "list = [1, 13, 22, 2, 7]\n",
        "list.sort()\n",
        "print(list)\n"
      ],
      "metadata": {
        "colab": {
          "base_uri": "https://localhost:8080/"
        },
        "id": "sQorLdFv7mrr",
        "outputId": "c5064429-de2d-428f-9940-1d888e45e35f"
      },
      "execution_count": 44,
      "outputs": [
        {
          "output_type": "stream",
          "name": "stdout",
          "text": [
            "[1, 2, 7, 13, 22]\n"
          ]
        }
      ]
    },
    {
      "cell_type": "code",
      "source": [
        "#28. Write a code to create a list with strings and print the element at the third index.\n",
        "list = [\"apple\", \"kiwi\", \"orange\"]\n",
        "print(list[2])"
      ],
      "metadata": {
        "colab": {
          "base_uri": "https://localhost:8080/"
        },
        "id": "HNA7U6cy8oHi",
        "outputId": "4aad3853-87b7-4ee3-f916-12eb8dbaccee"
      },
      "execution_count": 45,
      "outputs": [
        {
          "output_type": "stream",
          "name": "stdout",
          "text": [
            "orange\n"
          ]
        }
      ]
    },
    {
      "cell_type": "code",
      "source": [
        "#29. Write a code to combine two dictionaries into one and print the result.\n",
        "dict1 = {\"name\": \"Md Adnan\", \"age\": \"22\"}\n",
        "dict2 = {\"city\": \"Kolkata\", \"country\": \"India\"}\n",
        "dict1.update(dict2)\n",
        "print(dict1)"
      ],
      "metadata": {
        "colab": {
          "base_uri": "https://localhost:8080/"
        },
        "id": "aQxkOlFv9NEE",
        "outputId": "f9e25603-e643-4f9f-9bfa-8d4e58008050"
      },
      "execution_count": 46,
      "outputs": [
        {
          "output_type": "stream",
          "name": "stdout",
          "text": [
            "{'name': 'Md Adnan', 'age': '22', 'city': 'Kolkata', 'country': 'India'}\n"
          ]
        }
      ]
    },
    {
      "cell_type": "code",
      "source": [
        "#30. Write a code to convert a list of strings into a set.\n",
        "my_string = [\"apple\", \"kiwi\", \"cherry\"]\n",
        "my_set = set(my_string)\n",
        "print(my_set)"
      ],
      "metadata": {
        "colab": {
          "base_uri": "https://localhost:8080/",
          "height": 203
        },
        "id": "4KRdLSCu-Qvw",
        "outputId": "6a00e713-efb6-42c6-cab7-1be329a76446"
      },
      "execution_count": 56,
      "outputs": [
        {
          "output_type": "error",
          "ename": "TypeError",
          "evalue": "'set' object is not callable",
          "traceback": [
            "\u001b[0;31m---------------------------------------------------------------------------\u001b[0m",
            "\u001b[0;31mTypeError\u001b[0m                                 Traceback (most recent call last)",
            "\u001b[0;32m/tmp/ipython-input-56-1151651371.py\u001b[0m in \u001b[0;36m<cell line: 0>\u001b[0;34m()\u001b[0m\n\u001b[1;32m      1\u001b[0m \u001b[0;31m#30. Write a code to convert a list of strings into a set.\u001b[0m\u001b[0;34m\u001b[0m\u001b[0;34m\u001b[0m\u001b[0m\n\u001b[1;32m      2\u001b[0m \u001b[0mmy_string\u001b[0m \u001b[0;34m=\u001b[0m \u001b[0;34m[\u001b[0m\u001b[0;34m\"apple\"\u001b[0m\u001b[0;34m,\u001b[0m \u001b[0;34m\"kiwi\"\u001b[0m\u001b[0;34m,\u001b[0m \u001b[0;34m\"cherry\"\u001b[0m\u001b[0;34m]\u001b[0m\u001b[0;34m\u001b[0m\u001b[0;34m\u001b[0m\u001b[0m\n\u001b[0;32m----> 3\u001b[0;31m \u001b[0mmy_set\u001b[0m \u001b[0;34m=\u001b[0m \u001b[0mset\u001b[0m\u001b[0;34m(\u001b[0m\u001b[0mmy_string\u001b[0m\u001b[0;34m)\u001b[0m\u001b[0;34m\u001b[0m\u001b[0;34m\u001b[0m\u001b[0m\n\u001b[0m\u001b[1;32m      4\u001b[0m \u001b[0mprint\u001b[0m\u001b[0;34m(\u001b[0m\u001b[0mmy_set\u001b[0m\u001b[0;34m)\u001b[0m\u001b[0;34m\u001b[0m\u001b[0;34m\u001b[0m\u001b[0m\n",
            "\u001b[0;31mTypeError\u001b[0m: 'set' object is not callable"
          ]
        }
      ]
    },
    {
      "cell_type": "code",
      "source": [],
      "metadata": {
        "id": "g2NSat9Z-vOs"
      },
      "execution_count": null,
      "outputs": []
    }
  ]
}